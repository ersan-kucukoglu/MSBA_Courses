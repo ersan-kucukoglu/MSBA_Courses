{
 "cells": [
  {
   "cell_type": "code",
   "execution_count": 1,
   "id": "e6fff908",
   "metadata": {},
   "outputs": [],
   "source": [
    "import pandas as pd\n",
    "import numpy as np"
   ]
  },
  {
   "cell_type": "code",
   "execution_count": 2,
   "id": "bfbbd0bc",
   "metadata": {},
   "outputs": [],
   "source": [
    "import warnings\n",
    "warnings.filterwarnings('ignore')"
   ]
  },
  {
   "cell_type": "code",
   "execution_count": 3,
   "id": "3facc9d8",
   "metadata": {},
   "outputs": [],
   "source": [
    "repayment_data = pd.read_csv(\"../data/repayment_data.csv\", sep=\";\")"
   ]
  },
  {
   "cell_type": "code",
   "execution_count": 4,
   "id": "0f29b93e",
   "metadata": {},
   "outputs": [
    {
     "data": {
      "text/html": [
       "<div>\n",
       "<style scoped>\n",
       "    .dataframe tbody tr th:only-of-type {\n",
       "        vertical-align: middle;\n",
       "    }\n",
       "\n",
       "    .dataframe tbody tr th {\n",
       "        vertical-align: top;\n",
       "    }\n",
       "\n",
       "    .dataframe thead th {\n",
       "        text-align: right;\n",
       "    }\n",
       "</style>\n",
       "<table border=\"1\" class=\"dataframe\">\n",
       "  <thead>\n",
       "    <tr style=\"text-align: right;\">\n",
       "      <th></th>\n",
       "      <th>ID</th>\n",
       "      <th>month</th>\n",
       "      <th>max_delay</th>\n",
       "      <th>status</th>\n",
       "    </tr>\n",
       "  </thead>\n",
       "  <tbody>\n",
       "    <tr>\n",
       "      <th>0</th>\n",
       "      <td>anon_S0</td>\n",
       "      <td>2002-11-30</td>\n",
       "      <td>0</td>\n",
       "      <td>1</td>\n",
       "    </tr>\n",
       "    <tr>\n",
       "      <th>1</th>\n",
       "      <td>anon_S0</td>\n",
       "      <td>2002-12-31</td>\n",
       "      <td>0</td>\n",
       "      <td>1</td>\n",
       "    </tr>\n",
       "    <tr>\n",
       "      <th>2</th>\n",
       "      <td>anon_S0</td>\n",
       "      <td>2003-01-31</td>\n",
       "      <td>0</td>\n",
       "      <td>1</td>\n",
       "    </tr>\n",
       "    <tr>\n",
       "      <th>3</th>\n",
       "      <td>anon_S0</td>\n",
       "      <td>2003-02-28</td>\n",
       "      <td>0</td>\n",
       "      <td>1</td>\n",
       "    </tr>\n",
       "    <tr>\n",
       "      <th>4</th>\n",
       "      <td>anon_S0</td>\n",
       "      <td>2003-03-31</td>\n",
       "      <td>0</td>\n",
       "      <td>1</td>\n",
       "    </tr>\n",
       "  </tbody>\n",
       "</table>\n",
       "</div>"
      ],
      "text/plain": [
       "        ID       month  max_delay  status\n",
       "0  anon_S0  2002-11-30          0       1\n",
       "1  anon_S0  2002-12-31          0       1\n",
       "2  anon_S0  2003-01-31          0       1\n",
       "3  anon_S0  2003-02-28          0       1\n",
       "4  anon_S0  2003-03-31          0       1"
      ]
     },
     "execution_count": 4,
     "metadata": {},
     "output_type": "execute_result"
    }
   ],
   "source": [
    "repayment_data.head()"
   ]
  },
  {
   "cell_type": "code",
   "execution_count": 5,
   "id": "c3e2c24f",
   "metadata": {},
   "outputs": [
    {
     "data": {
      "text/plain": [
       "(530952, 4)"
      ]
     },
     "execution_count": 5,
     "metadata": {},
     "output_type": "execute_result"
    }
   ],
   "source": [
    "repayment_data.shape"
   ]
  },
  {
   "cell_type": "code",
   "execution_count": 6,
   "id": "0896db11",
   "metadata": {},
   "outputs": [
    {
     "name": "stdout",
     "output_type": "stream",
     "text": [
      "<class 'pandas.core.frame.DataFrame'>\n",
      "RangeIndex: 530952 entries, 0 to 530951\n",
      "Data columns (total 4 columns):\n",
      " #   Column     Non-Null Count   Dtype \n",
      "---  ------     --------------   ----- \n",
      " 0   ID         530952 non-null  object\n",
      " 1   month      530952 non-null  object\n",
      " 2   max_delay  530952 non-null  int64 \n",
      " 3   status     530952 non-null  int64 \n",
      "dtypes: int64(2), object(2)\n",
      "memory usage: 16.2+ MB\n"
     ]
    }
   ],
   "source": [
    "repayment_data.info()"
   ]
  },
  {
   "cell_type": "code",
   "execution_count": 7,
   "id": "313c78e1",
   "metadata": {},
   "outputs": [
    {
     "data": {
      "text/html": [
       "<div>\n",
       "<style scoped>\n",
       "    .dataframe tbody tr th:only-of-type {\n",
       "        vertical-align: middle;\n",
       "    }\n",
       "\n",
       "    .dataframe tbody tr th {\n",
       "        vertical-align: top;\n",
       "    }\n",
       "\n",
       "    .dataframe thead th {\n",
       "        text-align: right;\n",
       "    }\n",
       "</style>\n",
       "<table border=\"1\" class=\"dataframe\">\n",
       "  <thead>\n",
       "    <tr style=\"text-align: right;\">\n",
       "      <th></th>\n",
       "      <th>ID</th>\n",
       "      <th>month</th>\n",
       "      <th>max_delay</th>\n",
       "      <th>status</th>\n",
       "    </tr>\n",
       "  </thead>\n",
       "  <tbody>\n",
       "    <tr>\n",
       "      <th>count</th>\n",
       "      <td>530952</td>\n",
       "      <td>530952</td>\n",
       "      <td>530952.000000</td>\n",
       "      <td>530952.000000</td>\n",
       "    </tr>\n",
       "    <tr>\n",
       "      <th>unique</th>\n",
       "      <td>32551</td>\n",
       "      <td>64</td>\n",
       "      <td>NaN</td>\n",
       "      <td>NaN</td>\n",
       "    </tr>\n",
       "    <tr>\n",
       "      <th>top</th>\n",
       "      <td>anon_S1</td>\n",
       "      <td>2008-02-29</td>\n",
       "      <td>NaN</td>\n",
       "      <td>NaN</td>\n",
       "    </tr>\n",
       "    <tr>\n",
       "      <th>freq</th>\n",
       "      <td>60</td>\n",
       "      <td>26152</td>\n",
       "      <td>NaN</td>\n",
       "      <td>NaN</td>\n",
       "    </tr>\n",
       "    <tr>\n",
       "      <th>mean</th>\n",
       "      <td>NaN</td>\n",
       "      <td>NaN</td>\n",
       "      <td>2.881097</td>\n",
       "      <td>1.149769</td>\n",
       "    </tr>\n",
       "    <tr>\n",
       "      <th>std</th>\n",
       "      <td>NaN</td>\n",
       "      <td>NaN</td>\n",
       "      <td>12.406193</td>\n",
       "      <td>0.525092</td>\n",
       "    </tr>\n",
       "    <tr>\n",
       "      <th>min</th>\n",
       "      <td>NaN</td>\n",
       "      <td>NaN</td>\n",
       "      <td>0.000000</td>\n",
       "      <td>1.000000</td>\n",
       "    </tr>\n",
       "    <tr>\n",
       "      <th>25%</th>\n",
       "      <td>NaN</td>\n",
       "      <td>NaN</td>\n",
       "      <td>0.000000</td>\n",
       "      <td>1.000000</td>\n",
       "    </tr>\n",
       "    <tr>\n",
       "      <th>50%</th>\n",
       "      <td>NaN</td>\n",
       "      <td>NaN</td>\n",
       "      <td>0.000000</td>\n",
       "      <td>1.000000</td>\n",
       "    </tr>\n",
       "    <tr>\n",
       "      <th>75%</th>\n",
       "      <td>NaN</td>\n",
       "      <td>NaN</td>\n",
       "      <td>0.000000</td>\n",
       "      <td>1.000000</td>\n",
       "    </tr>\n",
       "    <tr>\n",
       "      <th>max</th>\n",
       "      <td>NaN</td>\n",
       "      <td>NaN</td>\n",
       "      <td>659.000000</td>\n",
       "      <td>5.000000</td>\n",
       "    </tr>\n",
       "  </tbody>\n",
       "</table>\n",
       "</div>"
      ],
      "text/plain": [
       "             ID       month      max_delay         status\n",
       "count    530952      530952  530952.000000  530952.000000\n",
       "unique    32551          64            NaN            NaN\n",
       "top     anon_S1  2008-02-29            NaN            NaN\n",
       "freq         60       26152            NaN            NaN\n",
       "mean        NaN         NaN       2.881097       1.149769\n",
       "std         NaN         NaN      12.406193       0.525092\n",
       "min         NaN         NaN       0.000000       1.000000\n",
       "25%         NaN         NaN       0.000000       1.000000\n",
       "50%         NaN         NaN       0.000000       1.000000\n",
       "75%         NaN         NaN       0.000000       1.000000\n",
       "max         NaN         NaN     659.000000       5.000000"
      ]
     },
     "execution_count": 7,
     "metadata": {},
     "output_type": "execute_result"
    }
   ],
   "source": [
    "repayment_data.describe(include='all')"
   ]
  },
  {
   "cell_type": "code",
   "execution_count": 8,
   "id": "56930fde",
   "metadata": {},
   "outputs": [
    {
     "data": {
      "text/plain": [
       "'2002-11-30'"
      ]
     },
     "execution_count": 8,
     "metadata": {},
     "output_type": "execute_result"
    }
   ],
   "source": [
    "repayment_data['month'].min()"
   ]
  },
  {
   "cell_type": "code",
   "execution_count": 9,
   "id": "b1b43e36",
   "metadata": {},
   "outputs": [
    {
     "data": {
      "text/plain": [
       "'2008-02-29'"
      ]
     },
     "execution_count": 9,
     "metadata": {},
     "output_type": "execute_result"
    }
   ],
   "source": [
    "repayment_data['month'].max()"
   ]
  },
  {
   "cell_type": "code",
   "execution_count": 10,
   "id": "5e58e577",
   "metadata": {},
   "outputs": [
    {
     "data": {
      "text/plain": [
       "3121"
      ]
     },
     "execution_count": 10,
     "metadata": {},
     "output_type": "execute_result"
    }
   ],
   "source": [
    "len(repayment_data[repayment_data['status']==5]['ID'].unique())"
   ]
  },
  {
   "cell_type": "markdown",
   "id": "a8541382",
   "metadata": {},
   "source": [
    "# Feature engineering"
   ]
  },
  {
   "cell_type": "code",
   "execution_count": 11,
   "id": "c24b5c4d",
   "metadata": {},
   "outputs": [],
   "source": [
    "repayment_data['delayed'] = np.where(repayment_data['max_delay']>0, 1, 0)"
   ]
  },
  {
   "cell_type": "code",
   "execution_count": 12,
   "id": "fa688e69",
   "metadata": {},
   "outputs": [],
   "source": [
    "repayment_data['month'] = pd.to_datetime(repayment_data['month'])"
   ]
  },
  {
   "cell_type": "code",
   "execution_count": 13,
   "id": "9153c11f",
   "metadata": {},
   "outputs": [],
   "source": [
    "users_first_month = repayment_data.groupby(['ID'], as_index=False)['month'].min()\n",
    "users_first_month.rename({'month': 'first_month'}, axis=1, inplace=True)"
   ]
  },
  {
   "cell_type": "code",
   "execution_count": 14,
   "id": "aabafd59",
   "metadata": {},
   "outputs": [],
   "source": [
    "repayment_data = pd.merge(repayment_data, users_first_month, on = ['ID'])"
   ]
  },
  {
   "cell_type": "code",
   "execution_count": 15,
   "id": "e0f98372",
   "metadata": {},
   "outputs": [],
   "source": [
    "repayment_data['month_number'] = 1+ np.round((repayment_data['month'] - repayment_data['first_month'])/np.timedelta64(1, 'M')) "
   ]
  },
  {
   "cell_type": "code",
   "execution_count": 16,
   "id": "4e554bbc",
   "metadata": {
    "scrolled": true
   },
   "outputs": [],
   "source": [
    "repayment_data.drop(['first_month'], axis=1, inplace=True)"
   ]
  },
  {
   "cell_type": "markdown",
   "id": "19ab5aac",
   "metadata": {},
   "source": [
    "# Rolling window statistics"
   ]
  },
  {
   "cell_type": "code",
   "execution_count": 17,
   "id": "7eec36c8",
   "metadata": {},
   "outputs": [],
   "source": [
    "def rolling_sum(df, col):\n",
    "    df.sort_values(['ID', 'month'], inplace=True)\n",
    "    df.reset_index(drop=True, inplace=True)\n",
    "    \n",
    "    roll_df = pd.DataFrame(df.groupby(['ID'])[col].apply(lambda x: x.rolling(window=7, min_periods=1).sum()))\n",
    "    new_column_name=col+'_roll_sum'\n",
    "    roll_df.columns = [new_column_name]\n",
    "    \n",
    "    return pd.merge(df, roll_df[[new_column_name]], \n",
    "                    left_index=True, right_index=True)\n",
    "    "
   ]
  },
  {
   "cell_type": "code",
   "execution_count": 18,
   "id": "ce438393",
   "metadata": {},
   "outputs": [],
   "source": [
    "def rolling_max(df, col):\n",
    "    df.sort_values(['ID', 'month'], inplace=True)\n",
    "    df.reset_index(drop=True, inplace=True)\n",
    "    \n",
    "    roll_df = pd.DataFrame(df.groupby(['ID'])[col].apply(lambda x: x.rolling(window=7, min_periods=1).max()))\n",
    "    new_column_name=col+'_roll_max'\n",
    "    roll_df.columns = [new_column_name]\n",
    "    \n",
    "    return pd.merge(df, roll_df[[new_column_name]], \n",
    "                    left_index=True, right_index=True)"
   ]
  },
  {
   "cell_type": "code",
   "execution_count": 19,
   "id": "6d08dd83",
   "metadata": {},
   "outputs": [],
   "source": [
    "def rolling_mean(df, col):\n",
    "    df.sort_values(['ID', 'month'], inplace=True)\n",
    "    df.reset_index(drop=True, inplace=True)\n",
    "    \n",
    "    roll_df = pd.DataFrame(df.groupby(['ID'])[col].apply(lambda x: x.rolling(window=7, min_periods=1).mean()))\n",
    "    new_column_name=col+'_roll_mean'\n",
    "    roll_df.columns = [new_column_name]\n",
    "    \n",
    "    return pd.merge(df, roll_df[[new_column_name]], \n",
    "                    left_index=True, right_index=True)"
   ]
  },
  {
   "cell_type": "code",
   "execution_count": 20,
   "id": "0931b895",
   "metadata": {},
   "outputs": [],
   "source": [
    "repayment_data = rolling_sum(repayment_data, 'delayed')"
   ]
  },
  {
   "cell_type": "code",
   "execution_count": 21,
   "id": "b3230779",
   "metadata": {},
   "outputs": [],
   "source": [
    "repayment_data = rolling_mean(repayment_data, 'max_delay')\n",
    "repayment_data = rolling_max(repayment_data, 'max_delay')\n",
    "repayment_data = rolling_max(repayment_data, 'status')"
   ]
  },
  {
   "cell_type": "markdown",
   "id": "0aebbfb7",
   "metadata": {},
   "source": [
    "# Create target variable"
   ]
  },
  {
   "cell_type": "code",
   "execution_count": 22,
   "id": "88828ec4",
   "metadata": {},
   "outputs": [],
   "source": [
    "def rolling_max_backwards(df, col):\n",
    "    df.sort_values(['ID', 'month'], ascending=False, inplace=True)\n",
    "    df.reset_index(drop=True, inplace=True)\n",
    "    \n",
    "    roll_df = pd.DataFrame(df.groupby(['ID'])[col].apply(lambda x: x.rolling(window=7, min_periods=1).max()))\n",
    "    new_column_name=col+'_roll_max_future'\n",
    "    roll_df.columns = [new_column_name]\n",
    "    \n",
    "    return pd.merge(df, roll_df[[new_column_name]], \n",
    "                    left_index=True, right_index=True)"
   ]
  },
  {
   "cell_type": "code",
   "execution_count": 23,
   "id": "e483e289",
   "metadata": {},
   "outputs": [],
   "source": [
    "repayment_data = rolling_max_backwards(repayment_data, \n",
    "                                       'status').sort_values(['ID', 'month'])"
   ]
  },
  {
   "cell_type": "code",
   "execution_count": 24,
   "id": "f5b0997a",
   "metadata": {},
   "outputs": [],
   "source": [
    "repayment_data['default'] = np.where(repayment_data['status_roll_max_future']==5, 1, 0)"
   ]
  },
  {
   "cell_type": "markdown",
   "id": "b3718fc7",
   "metadata": {},
   "source": [
    "# Drop columns where target is not known (no 6 month future is available)"
   ]
  },
  {
   "cell_type": "code",
   "execution_count": 25,
   "id": "fad1ee13",
   "metadata": {},
   "outputs": [],
   "source": [
    "repayment_data = repayment_data[(repayment_data['month']<=('2007-08-31 00:00:00'))|\n",
    "                               (repayment_data['default']==1)]"
   ]
  },
  {
   "cell_type": "code",
   "execution_count": 26,
   "id": "3a124419",
   "metadata": {},
   "outputs": [
    {
     "data": {
      "text/plain": [
       "(382598, 12)"
      ]
     },
     "execution_count": 26,
     "metadata": {},
     "output_type": "execute_result"
    }
   ],
   "source": [
    "repayment_data.shape"
   ]
  },
  {
   "cell_type": "code",
   "execution_count": 27,
   "id": "80cabe81",
   "metadata": {},
   "outputs": [],
   "source": [
    "repayment_data = repayment_data[repayment_data['status']<5]"
   ]
  },
  {
   "cell_type": "code",
   "execution_count": 28,
   "id": "9f19ef89",
   "metadata": {},
   "outputs": [
    {
     "data": {
      "text/plain": [
       "(379476, 12)"
      ]
     },
     "execution_count": 28,
     "metadata": {},
     "output_type": "execute_result"
    }
   ],
   "source": [
    "repayment_data.shape"
   ]
  },
  {
   "cell_type": "code",
   "execution_count": 29,
   "id": "06609743",
   "metadata": {
    "scrolled": false
   },
   "outputs": [
    {
     "data": {
      "text/html": [
       "<div>\n",
       "<style scoped>\n",
       "    .dataframe tbody tr th:only-of-type {\n",
       "        vertical-align: middle;\n",
       "    }\n",
       "\n",
       "    .dataframe tbody tr th {\n",
       "        vertical-align: top;\n",
       "    }\n",
       "\n",
       "    .dataframe thead th {\n",
       "        text-align: right;\n",
       "    }\n",
       "</style>\n",
       "<table border=\"1\" class=\"dataframe\">\n",
       "  <thead>\n",
       "    <tr style=\"text-align: right;\">\n",
       "      <th></th>\n",
       "      <th>ID</th>\n",
       "      <th>month</th>\n",
       "      <th>max_delay</th>\n",
       "      <th>status</th>\n",
       "      <th>delayed</th>\n",
       "      <th>month_number</th>\n",
       "      <th>delayed_roll_sum</th>\n",
       "      <th>max_delay_roll_mean</th>\n",
       "      <th>max_delay_roll_max</th>\n",
       "      <th>status_roll_max</th>\n",
       "      <th>status_roll_max_future</th>\n",
       "      <th>default</th>\n",
       "    </tr>\n",
       "  </thead>\n",
       "  <tbody>\n",
       "    <tr>\n",
       "      <th>530524</th>\n",
       "      <td>anon_S10010</td>\n",
       "      <td>2006-02-28</td>\n",
       "      <td>0</td>\n",
       "      <td>1</td>\n",
       "      <td>0</td>\n",
       "      <td>1.0</td>\n",
       "      <td>0.0</td>\n",
       "      <td>0.000000</td>\n",
       "      <td>0.0</td>\n",
       "      <td>1.0</td>\n",
       "      <td>1.0</td>\n",
       "      <td>0</td>\n",
       "    </tr>\n",
       "    <tr>\n",
       "      <th>530523</th>\n",
       "      <td>anon_S10010</td>\n",
       "      <td>2006-03-31</td>\n",
       "      <td>0</td>\n",
       "      <td>1</td>\n",
       "      <td>0</td>\n",
       "      <td>2.0</td>\n",
       "      <td>0.0</td>\n",
       "      <td>0.000000</td>\n",
       "      <td>0.0</td>\n",
       "      <td>1.0</td>\n",
       "      <td>1.0</td>\n",
       "      <td>0</td>\n",
       "    </tr>\n",
       "    <tr>\n",
       "      <th>530522</th>\n",
       "      <td>anon_S10010</td>\n",
       "      <td>2006-04-30</td>\n",
       "      <td>0</td>\n",
       "      <td>1</td>\n",
       "      <td>0</td>\n",
       "      <td>3.0</td>\n",
       "      <td>0.0</td>\n",
       "      <td>0.000000</td>\n",
       "      <td>0.0</td>\n",
       "      <td>1.0</td>\n",
       "      <td>1.0</td>\n",
       "      <td>0</td>\n",
       "    </tr>\n",
       "    <tr>\n",
       "      <th>530521</th>\n",
       "      <td>anon_S10010</td>\n",
       "      <td>2006-05-31</td>\n",
       "      <td>0</td>\n",
       "      <td>1</td>\n",
       "      <td>0</td>\n",
       "      <td>4.0</td>\n",
       "      <td>0.0</td>\n",
       "      <td>0.000000</td>\n",
       "      <td>0.0</td>\n",
       "      <td>1.0</td>\n",
       "      <td>1.0</td>\n",
       "      <td>0</td>\n",
       "    </tr>\n",
       "    <tr>\n",
       "      <th>530520</th>\n",
       "      <td>anon_S10010</td>\n",
       "      <td>2006-06-30</td>\n",
       "      <td>0</td>\n",
       "      <td>1</td>\n",
       "      <td>0</td>\n",
       "      <td>5.0</td>\n",
       "      <td>0.0</td>\n",
       "      <td>0.000000</td>\n",
       "      <td>0.0</td>\n",
       "      <td>1.0</td>\n",
       "      <td>1.0</td>\n",
       "      <td>0</td>\n",
       "    </tr>\n",
       "    <tr>\n",
       "      <th>530519</th>\n",
       "      <td>anon_S10010</td>\n",
       "      <td>2006-07-31</td>\n",
       "      <td>0</td>\n",
       "      <td>1</td>\n",
       "      <td>0</td>\n",
       "      <td>6.0</td>\n",
       "      <td>0.0</td>\n",
       "      <td>0.000000</td>\n",
       "      <td>0.0</td>\n",
       "      <td>1.0</td>\n",
       "      <td>1.0</td>\n",
       "      <td>0</td>\n",
       "    </tr>\n",
       "    <tr>\n",
       "      <th>530518</th>\n",
       "      <td>anon_S10010</td>\n",
       "      <td>2006-08-31</td>\n",
       "      <td>0</td>\n",
       "      <td>1</td>\n",
       "      <td>0</td>\n",
       "      <td>7.0</td>\n",
       "      <td>0.0</td>\n",
       "      <td>0.000000</td>\n",
       "      <td>0.0</td>\n",
       "      <td>1.0</td>\n",
       "      <td>2.0</td>\n",
       "      <td>0</td>\n",
       "    </tr>\n",
       "    <tr>\n",
       "      <th>530517</th>\n",
       "      <td>anon_S10010</td>\n",
       "      <td>2006-09-30</td>\n",
       "      <td>0</td>\n",
       "      <td>1</td>\n",
       "      <td>0</td>\n",
       "      <td>8.0</td>\n",
       "      <td>0.0</td>\n",
       "      <td>0.000000</td>\n",
       "      <td>0.0</td>\n",
       "      <td>1.0</td>\n",
       "      <td>3.0</td>\n",
       "      <td>0</td>\n",
       "    </tr>\n",
       "    <tr>\n",
       "      <th>530516</th>\n",
       "      <td>anon_S10010</td>\n",
       "      <td>2006-10-31</td>\n",
       "      <td>0</td>\n",
       "      <td>1</td>\n",
       "      <td>0</td>\n",
       "      <td>9.0</td>\n",
       "      <td>0.0</td>\n",
       "      <td>0.000000</td>\n",
       "      <td>0.0</td>\n",
       "      <td>1.0</td>\n",
       "      <td>3.0</td>\n",
       "      <td>0</td>\n",
       "    </tr>\n",
       "    <tr>\n",
       "      <th>530515</th>\n",
       "      <td>anon_S10010</td>\n",
       "      <td>2006-11-30</td>\n",
       "      <td>0</td>\n",
       "      <td>1</td>\n",
       "      <td>0</td>\n",
       "      <td>10.0</td>\n",
       "      <td>0.0</td>\n",
       "      <td>0.000000</td>\n",
       "      <td>0.0</td>\n",
       "      <td>1.0</td>\n",
       "      <td>3.0</td>\n",
       "      <td>0</td>\n",
       "    </tr>\n",
       "    <tr>\n",
       "      <th>530514</th>\n",
       "      <td>anon_S10010</td>\n",
       "      <td>2006-12-31</td>\n",
       "      <td>0</td>\n",
       "      <td>1</td>\n",
       "      <td>0</td>\n",
       "      <td>11.0</td>\n",
       "      <td>0.0</td>\n",
       "      <td>0.000000</td>\n",
       "      <td>0.0</td>\n",
       "      <td>1.0</td>\n",
       "      <td>3.0</td>\n",
       "      <td>0</td>\n",
       "    </tr>\n",
       "    <tr>\n",
       "      <th>530513</th>\n",
       "      <td>anon_S10010</td>\n",
       "      <td>2007-01-31</td>\n",
       "      <td>0</td>\n",
       "      <td>1</td>\n",
       "      <td>0</td>\n",
       "      <td>12.0</td>\n",
       "      <td>0.0</td>\n",
       "      <td>0.000000</td>\n",
       "      <td>0.0</td>\n",
       "      <td>1.0</td>\n",
       "      <td>4.0</td>\n",
       "      <td>0</td>\n",
       "    </tr>\n",
       "    <tr>\n",
       "      <th>530512</th>\n",
       "      <td>anon_S10010</td>\n",
       "      <td>2007-02-28</td>\n",
       "      <td>13</td>\n",
       "      <td>2</td>\n",
       "      <td>1</td>\n",
       "      <td>13.0</td>\n",
       "      <td>1.0</td>\n",
       "      <td>1.857143</td>\n",
       "      <td>13.0</td>\n",
       "      <td>2.0</td>\n",
       "      <td>4.0</td>\n",
       "      <td>0</td>\n",
       "    </tr>\n",
       "    <tr>\n",
       "      <th>530511</th>\n",
       "      <td>anon_S10010</td>\n",
       "      <td>2007-03-31</td>\n",
       "      <td>0</td>\n",
       "      <td>3</td>\n",
       "      <td>0</td>\n",
       "      <td>14.0</td>\n",
       "      <td>1.0</td>\n",
       "      <td>1.857143</td>\n",
       "      <td>13.0</td>\n",
       "      <td>3.0</td>\n",
       "      <td>4.0</td>\n",
       "      <td>0</td>\n",
       "    </tr>\n",
       "    <tr>\n",
       "      <th>530510</th>\n",
       "      <td>anon_S10010</td>\n",
       "      <td>2007-04-30</td>\n",
       "      <td>0</td>\n",
       "      <td>1</td>\n",
       "      <td>0</td>\n",
       "      <td>15.0</td>\n",
       "      <td>1.0</td>\n",
       "      <td>1.857143</td>\n",
       "      <td>13.0</td>\n",
       "      <td>3.0</td>\n",
       "      <td>4.0</td>\n",
       "      <td>0</td>\n",
       "    </tr>\n",
       "    <tr>\n",
       "      <th>530509</th>\n",
       "      <td>anon_S10010</td>\n",
       "      <td>2007-05-31</td>\n",
       "      <td>16</td>\n",
       "      <td>2</td>\n",
       "      <td>1</td>\n",
       "      <td>16.0</td>\n",
       "      <td>2.0</td>\n",
       "      <td>4.142857</td>\n",
       "      <td>16.0</td>\n",
       "      <td>3.0</td>\n",
       "      <td>4.0</td>\n",
       "      <td>0</td>\n",
       "    </tr>\n",
       "    <tr>\n",
       "      <th>530508</th>\n",
       "      <td>anon_S10010</td>\n",
       "      <td>2007-06-30</td>\n",
       "      <td>46</td>\n",
       "      <td>2</td>\n",
       "      <td>1</td>\n",
       "      <td>17.0</td>\n",
       "      <td>3.0</td>\n",
       "      <td>10.714286</td>\n",
       "      <td>46.0</td>\n",
       "      <td>3.0</td>\n",
       "      <td>4.0</td>\n",
       "      <td>0</td>\n",
       "    </tr>\n",
       "    <tr>\n",
       "      <th>530507</th>\n",
       "      <td>anon_S10010</td>\n",
       "      <td>2007-07-31</td>\n",
       "      <td>0</td>\n",
       "      <td>4</td>\n",
       "      <td>0</td>\n",
       "      <td>18.0</td>\n",
       "      <td>3.0</td>\n",
       "      <td>10.714286</td>\n",
       "      <td>46.0</td>\n",
       "      <td>4.0</td>\n",
       "      <td>5.0</td>\n",
       "      <td>1</td>\n",
       "    </tr>\n",
       "    <tr>\n",
       "      <th>530506</th>\n",
       "      <td>anon_S10010</td>\n",
       "      <td>2007-08-31</td>\n",
       "      <td>16</td>\n",
       "      <td>1</td>\n",
       "      <td>1</td>\n",
       "      <td>19.0</td>\n",
       "      <td>4.0</td>\n",
       "      <td>13.000000</td>\n",
       "      <td>46.0</td>\n",
       "      <td>4.0</td>\n",
       "      <td>5.0</td>\n",
       "      <td>1</td>\n",
       "    </tr>\n",
       "    <tr>\n",
       "      <th>530505</th>\n",
       "      <td>anon_S10010</td>\n",
       "      <td>2007-09-30</td>\n",
       "      <td>2</td>\n",
       "      <td>3</td>\n",
       "      <td>1</td>\n",
       "      <td>20.0</td>\n",
       "      <td>4.0</td>\n",
       "      <td>11.428571</td>\n",
       "      <td>46.0</td>\n",
       "      <td>4.0</td>\n",
       "      <td>5.0</td>\n",
       "      <td>1</td>\n",
       "    </tr>\n",
       "    <tr>\n",
       "      <th>530504</th>\n",
       "      <td>anon_S10010</td>\n",
       "      <td>2007-10-31</td>\n",
       "      <td>23</td>\n",
       "      <td>1</td>\n",
       "      <td>1</td>\n",
       "      <td>21.0</td>\n",
       "      <td>5.0</td>\n",
       "      <td>14.714286</td>\n",
       "      <td>46.0</td>\n",
       "      <td>4.0</td>\n",
       "      <td>5.0</td>\n",
       "      <td>1</td>\n",
       "    </tr>\n",
       "    <tr>\n",
       "      <th>530503</th>\n",
       "      <td>anon_S10010</td>\n",
       "      <td>2007-11-30</td>\n",
       "      <td>46</td>\n",
       "      <td>3</td>\n",
       "      <td>1</td>\n",
       "      <td>22.0</td>\n",
       "      <td>6.0</td>\n",
       "      <td>21.285714</td>\n",
       "      <td>46.0</td>\n",
       "      <td>4.0</td>\n",
       "      <td>5.0</td>\n",
       "      <td>1</td>\n",
       "    </tr>\n",
       "    <tr>\n",
       "      <th>530502</th>\n",
       "      <td>anon_S10010</td>\n",
       "      <td>2007-12-31</td>\n",
       "      <td>77</td>\n",
       "      <td>3</td>\n",
       "      <td>1</td>\n",
       "      <td>23.0</td>\n",
       "      <td>6.0</td>\n",
       "      <td>30.000000</td>\n",
       "      <td>77.0</td>\n",
       "      <td>4.0</td>\n",
       "      <td>5.0</td>\n",
       "      <td>1</td>\n",
       "    </tr>\n",
       "  </tbody>\n",
       "</table>\n",
       "</div>"
      ],
      "text/plain": [
       "                 ID      month  max_delay  status  delayed  month_number  \\\n",
       "530524  anon_S10010 2006-02-28          0       1        0           1.0   \n",
       "530523  anon_S10010 2006-03-31          0       1        0           2.0   \n",
       "530522  anon_S10010 2006-04-30          0       1        0           3.0   \n",
       "530521  anon_S10010 2006-05-31          0       1        0           4.0   \n",
       "530520  anon_S10010 2006-06-30          0       1        0           5.0   \n",
       "530519  anon_S10010 2006-07-31          0       1        0           6.0   \n",
       "530518  anon_S10010 2006-08-31          0       1        0           7.0   \n",
       "530517  anon_S10010 2006-09-30          0       1        0           8.0   \n",
       "530516  anon_S10010 2006-10-31          0       1        0           9.0   \n",
       "530515  anon_S10010 2006-11-30          0       1        0          10.0   \n",
       "530514  anon_S10010 2006-12-31          0       1        0          11.0   \n",
       "530513  anon_S10010 2007-01-31          0       1        0          12.0   \n",
       "530512  anon_S10010 2007-02-28         13       2        1          13.0   \n",
       "530511  anon_S10010 2007-03-31          0       3        0          14.0   \n",
       "530510  anon_S10010 2007-04-30          0       1        0          15.0   \n",
       "530509  anon_S10010 2007-05-31         16       2        1          16.0   \n",
       "530508  anon_S10010 2007-06-30         46       2        1          17.0   \n",
       "530507  anon_S10010 2007-07-31          0       4        0          18.0   \n",
       "530506  anon_S10010 2007-08-31         16       1        1          19.0   \n",
       "530505  anon_S10010 2007-09-30          2       3        1          20.0   \n",
       "530504  anon_S10010 2007-10-31         23       1        1          21.0   \n",
       "530503  anon_S10010 2007-11-30         46       3        1          22.0   \n",
       "530502  anon_S10010 2007-12-31         77       3        1          23.0   \n",
       "\n",
       "        delayed_roll_sum  max_delay_roll_mean  max_delay_roll_max  \\\n",
       "530524               0.0             0.000000                 0.0   \n",
       "530523               0.0             0.000000                 0.0   \n",
       "530522               0.0             0.000000                 0.0   \n",
       "530521               0.0             0.000000                 0.0   \n",
       "530520               0.0             0.000000                 0.0   \n",
       "530519               0.0             0.000000                 0.0   \n",
       "530518               0.0             0.000000                 0.0   \n",
       "530517               0.0             0.000000                 0.0   \n",
       "530516               0.0             0.000000                 0.0   \n",
       "530515               0.0             0.000000                 0.0   \n",
       "530514               0.0             0.000000                 0.0   \n",
       "530513               0.0             0.000000                 0.0   \n",
       "530512               1.0             1.857143                13.0   \n",
       "530511               1.0             1.857143                13.0   \n",
       "530510               1.0             1.857143                13.0   \n",
       "530509               2.0             4.142857                16.0   \n",
       "530508               3.0            10.714286                46.0   \n",
       "530507               3.0            10.714286                46.0   \n",
       "530506               4.0            13.000000                46.0   \n",
       "530505               4.0            11.428571                46.0   \n",
       "530504               5.0            14.714286                46.0   \n",
       "530503               6.0            21.285714                46.0   \n",
       "530502               6.0            30.000000                77.0   \n",
       "\n",
       "        status_roll_max  status_roll_max_future  default  \n",
       "530524              1.0                     1.0        0  \n",
       "530523              1.0                     1.0        0  \n",
       "530522              1.0                     1.0        0  \n",
       "530521              1.0                     1.0        0  \n",
       "530520              1.0                     1.0        0  \n",
       "530519              1.0                     1.0        0  \n",
       "530518              1.0                     2.0        0  \n",
       "530517              1.0                     3.0        0  \n",
       "530516              1.0                     3.0        0  \n",
       "530515              1.0                     3.0        0  \n",
       "530514              1.0                     3.0        0  \n",
       "530513              1.0                     4.0        0  \n",
       "530512              2.0                     4.0        0  \n",
       "530511              3.0                     4.0        0  \n",
       "530510              3.0                     4.0        0  \n",
       "530509              3.0                     4.0        0  \n",
       "530508              3.0                     4.0        0  \n",
       "530507              4.0                     5.0        1  \n",
       "530506              4.0                     5.0        1  \n",
       "530505              4.0                     5.0        1  \n",
       "530504              4.0                     5.0        1  \n",
       "530503              4.0                     5.0        1  \n",
       "530502              4.0                     5.0        1  "
      ]
     },
     "execution_count": 29,
     "metadata": {},
     "output_type": "execute_result"
    }
   ],
   "source": [
    "repayment_data[repayment_data['ID']=='anon_S10010'].head(25)"
   ]
  },
  {
   "cell_type": "markdown",
   "id": "9c829520",
   "metadata": {},
   "source": [
    "# Read customer data"
   ]
  },
  {
   "cell_type": "code",
   "execution_count": 30,
   "id": "0076f36b",
   "metadata": {},
   "outputs": [],
   "source": [
    "customer_data = pd.read_csv(\"../data/customer_data.csv\", sep = \";\")"
   ]
  },
  {
   "cell_type": "code",
   "execution_count": 31,
   "id": "d4ad37cd",
   "metadata": {},
   "outputs": [
    {
     "data": {
      "text/html": [
       "<div>\n",
       "<style scoped>\n",
       "    .dataframe tbody tr th:only-of-type {\n",
       "        vertical-align: middle;\n",
       "    }\n",
       "\n",
       "    .dataframe tbody tr th {\n",
       "        vertical-align: top;\n",
       "    }\n",
       "\n",
       "    .dataframe thead th {\n",
       "        text-align: right;\n",
       "    }\n",
       "</style>\n",
       "<table border=\"1\" class=\"dataframe\">\n",
       "  <thead>\n",
       "    <tr style=\"text-align: right;\">\n",
       "      <th></th>\n",
       "      <th>ID</th>\n",
       "      <th>debt_amount</th>\n",
       "      <th>own_resource</th>\n",
       "      <th>duration</th>\n",
       "      <th>payment_type</th>\n",
       "      <th>car_age</th>\n",
       "      <th>brand</th>\n",
       "      <th>engine_capacity_cat</th>\n",
       "      <th>birth_date</th>\n",
       "      <th>residence_type</th>\n",
       "      <th>region</th>\n",
       "    </tr>\n",
       "  </thead>\n",
       "  <tbody>\n",
       "    <tr>\n",
       "      <th>0</th>\n",
       "      <td>anon_S0</td>\n",
       "      <td>Between_2.25M-3M</td>\n",
       "      <td>15.0</td>\n",
       "      <td>7</td>\n",
       "      <td>postal_check</td>\n",
       "      <td>0</td>\n",
       "      <td>SEAT</td>\n",
       "      <td>Between_1.1-1.3</td>\n",
       "      <td>11/15/1952 00:00:00</td>\n",
       "      <td>county seat</td>\n",
       "      <td>Central Transdanubia</td>\n",
       "    </tr>\n",
       "    <tr>\n",
       "      <th>1</th>\n",
       "      <td>anon_S1</td>\n",
       "      <td>Between_1.5M-2.25M</td>\n",
       "      <td>20.0</td>\n",
       "      <td>60</td>\n",
       "      <td>postal_check</td>\n",
       "      <td>0</td>\n",
       "      <td>CITROEN</td>\n",
       "      <td>Below_1.1</td>\n",
       "      <td>02/04/1975 00:00:00</td>\n",
       "      <td>county seat</td>\n",
       "      <td>Central Transdanubia</td>\n",
       "    </tr>\n",
       "    <tr>\n",
       "      <th>2</th>\n",
       "      <td>anon_S10</td>\n",
       "      <td>Between_1.5M-2.25M</td>\n",
       "      <td>25.0</td>\n",
       "      <td>60</td>\n",
       "      <td>postal_check</td>\n",
       "      <td>0</td>\n",
       "      <td>PEUGEOT</td>\n",
       "      <td>Between_1.3-1.5</td>\n",
       "      <td>03/22/1978 00:00:00</td>\n",
       "      <td>municipality</td>\n",
       "      <td>Western Transdanubia</td>\n",
       "    </tr>\n",
       "  </tbody>\n",
       "</table>\n",
       "</div>"
      ],
      "text/plain": [
       "         ID         debt_amount  own_resource  duration  payment_type  \\\n",
       "0   anon_S0    Between_2.25M-3M          15.0         7  postal_check   \n",
       "1   anon_S1  Between_1.5M-2.25M          20.0        60  postal_check   \n",
       "2  anon_S10  Between_1.5M-2.25M          25.0        60  postal_check   \n",
       "\n",
       "   car_age    brand engine_capacity_cat           birth_date residence_type  \\\n",
       "0        0     SEAT     Between_1.1-1.3  11/15/1952 00:00:00    county seat   \n",
       "1        0  CITROEN           Below_1.1  02/04/1975 00:00:00    county seat   \n",
       "2        0  PEUGEOT     Between_1.3-1.5  03/22/1978 00:00:00   municipality   \n",
       "\n",
       "                 region  \n",
       "0  Central Transdanubia  \n",
       "1  Central Transdanubia  \n",
       "2  Western Transdanubia  "
      ]
     },
     "execution_count": 31,
     "metadata": {},
     "output_type": "execute_result"
    }
   ],
   "source": [
    "customer_data.head(3)"
   ]
  },
  {
   "cell_type": "code",
   "execution_count": 32,
   "id": "89683861",
   "metadata": {},
   "outputs": [],
   "source": [
    "data = pd.merge(repayment_data, customer_data, on= ['ID'], how='inner')"
   ]
  },
  {
   "cell_type": "code",
   "execution_count": 33,
   "id": "f559419c",
   "metadata": {},
   "outputs": [
    {
     "data": {
      "text/plain": [
       "(379476, 22)"
      ]
     },
     "execution_count": 33,
     "metadata": {},
     "output_type": "execute_result"
    }
   ],
   "source": [
    "data.shape"
   ]
  },
  {
   "cell_type": "code",
   "execution_count": 34,
   "id": "40990fee",
   "metadata": {},
   "outputs": [],
   "source": [
    "data['car_used'] = np.where(data['car_age']<12, 0, 1)"
   ]
  },
  {
   "cell_type": "code",
   "execution_count": 35,
   "id": "c8305a7c",
   "metadata": {
    "scrolled": true
   },
   "outputs": [
    {
     "data": {
      "text/plain": [
       "<AxesSubplot:>"
      ]
     },
     "execution_count": 35,
     "metadata": {},
     "output_type": "execute_result"
    },
    {
     "data": {
      "image/png": "[encoded data removed]",
      "text/plain": [
       "<Figure size 432x288 with 1 Axes>"
      ]
     },
     "metadata": {
      "needs_background": "light"
     },
     "output_type": "display_data"
    }
   ],
   "source": [
    "data['car_age'].hist(bins=50)"
   ]
  },
  {
   "cell_type": "code",
   "execution_count": 36,
   "id": "574baf53",
   "metadata": {},
   "outputs": [],
   "source": [
    "data['customer_age'] = (data['month'] -pd.to_datetime(data['birth_date'],\n",
    "                        format='%m/%d/%Y %H:%M:%S'))/np.timedelta64(1, 'Y')"
   ]
  },
  {
   "cell_type": "code",
   "execution_count": 37,
   "id": "5f884c72",
   "metadata": {},
   "outputs": [
    {
     "data": {
      "text/html": [
       "<div>\n",
       "<style scoped>\n",
       "    .dataframe tbody tr th:only-of-type {\n",
       "        vertical-align: middle;\n",
       "    }\n",
       "\n",
       "    .dataframe tbody tr th {\n",
       "        vertical-align: top;\n",
       "    }\n",
       "\n",
       "    .dataframe thead th {\n",
       "        text-align: right;\n",
       "    }\n",
       "</style>\n",
       "<table border=\"1\" class=\"dataframe\">\n",
       "  <thead>\n",
       "    <tr style=\"text-align: right;\">\n",
       "      <th></th>\n",
       "      <th>ID</th>\n",
       "      <th>month</th>\n",
       "      <th>max_delay</th>\n",
       "      <th>status</th>\n",
       "      <th>delayed</th>\n",
       "      <th>month_number</th>\n",
       "      <th>delayed_roll_sum</th>\n",
       "      <th>max_delay_roll_mean</th>\n",
       "      <th>max_delay_roll_max</th>\n",
       "      <th>status_roll_max</th>\n",
       "      <th>...</th>\n",
       "      <th>duration</th>\n",
       "      <th>payment_type</th>\n",
       "      <th>car_age</th>\n",
       "      <th>brand</th>\n",
       "      <th>engine_capacity_cat</th>\n",
       "      <th>birth_date</th>\n",
       "      <th>residence_type</th>\n",
       "      <th>region</th>\n",
       "      <th>car_used</th>\n",
       "      <th>customer_age</th>\n",
       "    </tr>\n",
       "  </thead>\n",
       "  <tbody>\n",
       "    <tr>\n",
       "      <th>0</th>\n",
       "      <td>anon_S0</td>\n",
       "      <td>2002-11-30</td>\n",
       "      <td>0</td>\n",
       "      <td>1</td>\n",
       "      <td>0</td>\n",
       "      <td>1.0</td>\n",
       "      <td>0.0</td>\n",
       "      <td>0.0</td>\n",
       "      <td>0.0</td>\n",
       "      <td>1.0</td>\n",
       "      <td>...</td>\n",
       "      <td>7</td>\n",
       "      <td>postal_check</td>\n",
       "      <td>0</td>\n",
       "      <td>SEAT</td>\n",
       "      <td>Between_1.1-1.3</td>\n",
       "      <td>11/15/1952 00:00:00</td>\n",
       "      <td>county seat</td>\n",
       "      <td>Central Transdanubia</td>\n",
       "      <td>0</td>\n",
       "      <td>50.040726</td>\n",
       "    </tr>\n",
       "    <tr>\n",
       "      <th>1</th>\n",
       "      <td>anon_S0</td>\n",
       "      <td>2002-12-31</td>\n",
       "      <td>0</td>\n",
       "      <td>1</td>\n",
       "      <td>0</td>\n",
       "      <td>2.0</td>\n",
       "      <td>0.0</td>\n",
       "      <td>0.0</td>\n",
       "      <td>0.0</td>\n",
       "      <td>1.0</td>\n",
       "      <td>...</td>\n",
       "      <td>7</td>\n",
       "      <td>postal_check</td>\n",
       "      <td>0</td>\n",
       "      <td>SEAT</td>\n",
       "      <td>Between_1.1-1.3</td>\n",
       "      <td>11/15/1952 00:00:00</td>\n",
       "      <td>county seat</td>\n",
       "      <td>Central Transdanubia</td>\n",
       "      <td>0</td>\n",
       "      <td>50.125601</td>\n",
       "    </tr>\n",
       "    <tr>\n",
       "      <th>2</th>\n",
       "      <td>anon_S0</td>\n",
       "      <td>2003-01-31</td>\n",
       "      <td>0</td>\n",
       "      <td>1</td>\n",
       "      <td>0</td>\n",
       "      <td>3.0</td>\n",
       "      <td>0.0</td>\n",
       "      <td>0.0</td>\n",
       "      <td>0.0</td>\n",
       "      <td>1.0</td>\n",
       "      <td>...</td>\n",
       "      <td>7</td>\n",
       "      <td>postal_check</td>\n",
       "      <td>0</td>\n",
       "      <td>SEAT</td>\n",
       "      <td>Between_1.1-1.3</td>\n",
       "      <td>11/15/1952 00:00:00</td>\n",
       "      <td>county seat</td>\n",
       "      <td>Central Transdanubia</td>\n",
       "      <td>0</td>\n",
       "      <td>50.210477</td>\n",
       "    </tr>\n",
       "  </tbody>\n",
       "</table>\n",
       "<p>3 rows × 24 columns</p>\n",
       "</div>"
      ],
      "text/plain": [
       "        ID      month  max_delay  status  delayed  month_number  \\\n",
       "0  anon_S0 2002-11-30          0       1        0           1.0   \n",
       "1  anon_S0 2002-12-31          0       1        0           2.0   \n",
       "2  anon_S0 2003-01-31          0       1        0           3.0   \n",
       "\n",
       "   delayed_roll_sum  max_delay_roll_mean  max_delay_roll_max  status_roll_max  \\\n",
       "0               0.0                  0.0                 0.0              1.0   \n",
       "1               0.0                  0.0                 0.0              1.0   \n",
       "2               0.0                  0.0                 0.0              1.0   \n",
       "\n",
       "   ...  duration  payment_type car_age  brand  engine_capacity_cat  \\\n",
       "0  ...         7  postal_check       0   SEAT      Between_1.1-1.3   \n",
       "1  ...         7  postal_check       0   SEAT      Between_1.1-1.3   \n",
       "2  ...         7  postal_check       0   SEAT      Between_1.1-1.3   \n",
       "\n",
       "            birth_date  residence_type                region car_used  \\\n",
       "0  11/15/1952 00:00:00     county seat  Central Transdanubia        0   \n",
       "1  11/15/1952 00:00:00     county seat  Central Transdanubia        0   \n",
       "2  11/15/1952 00:00:00     county seat  Central Transdanubia        0   \n",
       "\n",
       "  customer_age  \n",
       "0    50.040726  \n",
       "1    50.125601  \n",
       "2    50.210477  \n",
       "\n",
       "[3 rows x 24 columns]"
      ]
     },
     "execution_count": 37,
     "metadata": {},
     "output_type": "execute_result"
    }
   ],
   "source": [
    "data.head(3)"
   ]
  },
  {
   "cell_type": "code",
   "execution_count": 38,
   "id": "7ef8d21f",
   "metadata": {},
   "outputs": [
    {
     "data": {
      "text/plain": [
       "postal_check     372276\n",
       "bank_transfer      5575\n",
       "direct_debit       1625\n",
       "Name: payment_type, dtype: int64"
      ]
     },
     "execution_count": 38,
     "metadata": {},
     "output_type": "execute_result"
    }
   ],
   "source": [
    "data['payment_type'].value_counts()"
   ]
  },
  {
   "cell_type": "code",
   "execution_count": 39,
   "id": "9a06a611",
   "metadata": {},
   "outputs": [
    {
     "data": {
      "text/plain": [
       "SUZUKI           149192\n",
       "OPEL              31205\n",
       "RENAULT           27045\n",
       "SKODA             26025\n",
       "VW                19934\n",
       "FORD              14961\n",
       "FIAT              12805\n",
       "PEUGEOT            9454\n",
       "SEAT               9353\n",
       "CHEVROLET          8829\n",
       "HONDA              8608\n",
       "CITROEN            7950\n",
       "HYUNDAI            7726\n",
       "KIA                5812\n",
       "NISSAN             5807\n",
       "MAZDA              5505\n",
       "AUDI               5391\n",
       "MITSUBISHI         5345\n",
       "TOYOTA             5081\n",
       "DACIA              4190\n",
       "ALFA               2575\n",
       "DAEWOO             2376\n",
       "VOLVO              2301\n",
       "ROVER               751\n",
       "SAAB                453\n",
       "CHRYSLER            417\n",
       "MERCEDES-BENZ       237\n",
       "BMW                 148\n",
       "Name: brand, dtype: int64"
      ]
     },
     "execution_count": 39,
     "metadata": {},
     "output_type": "execute_result"
    }
   ],
   "source": [
    "data['brand'].value_counts()"
   ]
  },
  {
   "cell_type": "markdown",
   "id": "d8e615e2",
   "metadata": {},
   "source": [
    "# Create train and test partitions"
   ]
  },
  {
   "cell_type": "code",
   "execution_count": 40,
   "id": "0abe781e",
   "metadata": {},
   "outputs": [],
   "source": [
    "import random\n",
    "import math"
   ]
  },
  {
   "cell_type": "code",
   "execution_count": 41,
   "id": "c6a106d3",
   "metadata": {},
   "outputs": [],
   "source": [
    "user_list = list(data['ID'].unique())\n",
    "sample_size = math.floor(len(user_list)*0.85)\n",
    "train_users = random.sample(user_list, sample_size)\n",
    "\n",
    "train_data = data[data['ID'].isin(train_users)]\n",
    "test_data = data[~data['ID'].isin(train_users)]"
   ]
  },
  {
   "cell_type": "code",
   "execution_count": 42,
   "id": "9e9617ee",
   "metadata": {},
   "outputs": [],
   "source": [
    "cv = pd.DataFrame(zip(train_users, \n",
    "                      np.random.randint(1,6, len(train_users))), \n",
    "                  columns = ['ID', 'CV'])\n",
    "\n",
    "train_data = pd.merge(train_data, cv, on=['ID'])"
   ]
  },
  {
   "cell_type": "code",
   "execution_count": 43,
   "id": "74c4642b",
   "metadata": {},
   "outputs": [
    {
     "data": {
      "text/html": [
       "<div>\n",
       "<style scoped>\n",
       "    .dataframe tbody tr th:only-of-type {\n",
       "        vertical-align: middle;\n",
       "    }\n",
       "\n",
       "    .dataframe tbody tr th {\n",
       "        vertical-align: top;\n",
       "    }\n",
       "\n",
       "    .dataframe thead th {\n",
       "        text-align: right;\n",
       "    }\n",
       "</style>\n",
       "<table border=\"1\" class=\"dataframe\">\n",
       "  <thead>\n",
       "    <tr style=\"text-align: right;\">\n",
       "      <th></th>\n",
       "      <th>ID</th>\n",
       "      <th>month</th>\n",
       "      <th>max_delay</th>\n",
       "      <th>status</th>\n",
       "      <th>delayed</th>\n",
       "      <th>month_number</th>\n",
       "      <th>delayed_roll_sum</th>\n",
       "      <th>max_delay_roll_mean</th>\n",
       "      <th>max_delay_roll_max</th>\n",
       "      <th>status_roll_max</th>\n",
       "      <th>...</th>\n",
       "      <th>payment_type</th>\n",
       "      <th>car_age</th>\n",
       "      <th>brand</th>\n",
       "      <th>engine_capacity_cat</th>\n",
       "      <th>birth_date</th>\n",
       "      <th>residence_type</th>\n",
       "      <th>region</th>\n",
       "      <th>car_used</th>\n",
       "      <th>customer_age</th>\n",
       "      <th>CV</th>\n",
       "    </tr>\n",
       "  </thead>\n",
       "  <tbody>\n",
       "    <tr>\n",
       "      <th>0</th>\n",
       "      <td>anon_S0</td>\n",
       "      <td>2002-11-30</td>\n",
       "      <td>0</td>\n",
       "      <td>1</td>\n",
       "      <td>0</td>\n",
       "      <td>1.0</td>\n",
       "      <td>0.0</td>\n",
       "      <td>0.0</td>\n",
       "      <td>0.0</td>\n",
       "      <td>1.0</td>\n",
       "      <td>...</td>\n",
       "      <td>postal_check</td>\n",
       "      <td>0</td>\n",
       "      <td>SEAT</td>\n",
       "      <td>Between_1.1-1.3</td>\n",
       "      <td>11/15/1952 00:00:00</td>\n",
       "      <td>county seat</td>\n",
       "      <td>Central Transdanubia</td>\n",
       "      <td>0</td>\n",
       "      <td>50.040726</td>\n",
       "      <td>2</td>\n",
       "    </tr>\n",
       "    <tr>\n",
       "      <th>1</th>\n",
       "      <td>anon_S0</td>\n",
       "      <td>2002-12-31</td>\n",
       "      <td>0</td>\n",
       "      <td>1</td>\n",
       "      <td>0</td>\n",
       "      <td>2.0</td>\n",
       "      <td>0.0</td>\n",
       "      <td>0.0</td>\n",
       "      <td>0.0</td>\n",
       "      <td>1.0</td>\n",
       "      <td>...</td>\n",
       "      <td>postal_check</td>\n",
       "      <td>0</td>\n",
       "      <td>SEAT</td>\n",
       "      <td>Between_1.1-1.3</td>\n",
       "      <td>11/15/1952 00:00:00</td>\n",
       "      <td>county seat</td>\n",
       "      <td>Central Transdanubia</td>\n",
       "      <td>0</td>\n",
       "      <td>50.125601</td>\n",
       "      <td>2</td>\n",
       "    </tr>\n",
       "    <tr>\n",
       "      <th>2</th>\n",
       "      <td>anon_S0</td>\n",
       "      <td>2003-01-31</td>\n",
       "      <td>0</td>\n",
       "      <td>1</td>\n",
       "      <td>0</td>\n",
       "      <td>3.0</td>\n",
       "      <td>0.0</td>\n",
       "      <td>0.0</td>\n",
       "      <td>0.0</td>\n",
       "      <td>1.0</td>\n",
       "      <td>...</td>\n",
       "      <td>postal_check</td>\n",
       "      <td>0</td>\n",
       "      <td>SEAT</td>\n",
       "      <td>Between_1.1-1.3</td>\n",
       "      <td>11/15/1952 00:00:00</td>\n",
       "      <td>county seat</td>\n",
       "      <td>Central Transdanubia</td>\n",
       "      <td>0</td>\n",
       "      <td>50.210477</td>\n",
       "      <td>2</td>\n",
       "    </tr>\n",
       "  </tbody>\n",
       "</table>\n",
       "<p>3 rows × 25 columns</p>\n",
       "</div>"
      ],
      "text/plain": [
       "        ID      month  max_delay  status  delayed  month_number  \\\n",
       "0  anon_S0 2002-11-30          0       1        0           1.0   \n",
       "1  anon_S0 2002-12-31          0       1        0           2.0   \n",
       "2  anon_S0 2003-01-31          0       1        0           3.0   \n",
       "\n",
       "   delayed_roll_sum  max_delay_roll_mean  max_delay_roll_max  status_roll_max  \\\n",
       "0               0.0                  0.0                 0.0              1.0   \n",
       "1               0.0                  0.0                 0.0              1.0   \n",
       "2               0.0                  0.0                 0.0              1.0   \n",
       "\n",
       "   ...  payment_type  car_age brand  engine_capacity_cat           birth_date  \\\n",
       "0  ...  postal_check        0  SEAT      Between_1.1-1.3  11/15/1952 00:00:00   \n",
       "1  ...  postal_check        0  SEAT      Between_1.1-1.3  11/15/1952 00:00:00   \n",
       "2  ...  postal_check        0  SEAT      Between_1.1-1.3  11/15/1952 00:00:00   \n",
       "\n",
       "  residence_type                region car_used customer_age CV  \n",
       "0    county seat  Central Transdanubia        0    50.040726  2  \n",
       "1    county seat  Central Transdanubia        0    50.125601  2  \n",
       "2    county seat  Central Transdanubia        0    50.210477  2  \n",
       "\n",
       "[3 rows x 25 columns]"
      ]
     },
     "execution_count": 43,
     "metadata": {},
     "output_type": "execute_result"
    }
   ],
   "source": [
    "train_data.head(3)"
   ]
  },
  {
   "cell_type": "markdown",
   "id": "843df105",
   "metadata": {},
   "source": [
    "# Explore the brands on train data"
   ]
  },
  {
   "cell_type": "code",
   "execution_count": 44,
   "id": "5a9f50df",
   "metadata": {},
   "outputs": [],
   "source": [
    "brand_df = train_data.groupby('brand').agg({'default': ['sum','count'], \n",
    "                                            'car_used':'sum'})\n",
    "brand_df.columns = ['default_nr', 'total_count', 'used_nr']\n",
    "\n",
    "brand_df['default_ratio'] = brand_df['default_nr']/brand_df['total_count']\n",
    "brand_df['used_ratio'] = brand_df['used_nr']/brand_df['total_count']\n",
    "brand_df.sort_values(['default_ratio'], ascending=False, inplace=True)"
   ]
  },
  {
   "cell_type": "code",
   "execution_count": 45,
   "id": "73989969",
   "metadata": {},
   "outputs": [],
   "source": [
    "brand_cat1 = list(brand_df[brand_df['default_ratio']>0.08].index)\n",
    "brand_cat2 = list(brand_df[(brand_df['default_ratio']<=0.08) & \n",
    "                           (brand_df['default_ratio']>0.05)].index)\n",
    "brand_cat3 = list(brand_df[brand_df['default_ratio']<=0.05].index)"
   ]
  },
  {
   "cell_type": "code",
   "execution_count": 46,
   "id": "0b64a582",
   "metadata": {
    "scrolled": true
   },
   "outputs": [
    {
     "data": {
      "text/plain": [
       "['SEAT',\n",
       " 'HYUNDAI',\n",
       " 'MAZDA',\n",
       " 'HONDA',\n",
       " 'DAEWOO',\n",
       " 'RENAULT',\n",
       " 'SUZUKI',\n",
       " 'SKODA',\n",
       " 'TOYOTA',\n",
       " 'DACIA',\n",
       " 'BMW',\n",
       " 'MERCEDES-BENZ']"
      ]
     },
     "execution_count": 46,
     "metadata": {},
     "output_type": "execute_result"
    }
   ],
   "source": [
    "brand_cat3"
   ]
  },
  {
   "cell_type": "code",
   "execution_count": 47,
   "id": "d92d472f",
   "metadata": {},
   "outputs": [],
   "source": [
    "def add_brand_category(df):\n",
    "    df['brand_cat'] = np.where(df['brand'].isin(['SAAB', \n",
    "                                                'CHRYSLER',\n",
    "                                                'ALFA',\n",
    "                                                'BMW']), \n",
    "                               'brand_cat1', 'brand_cat2')\n",
    "    df['brand_cat'] = np.where(df['brand'].isin(['NISSAN',\n",
    " 'OPEL',\n",
    " 'HYUNDAI',\n",
    " 'HONDA',\n",
    " 'DAEWOO',\n",
    " 'RENAULT',\n",
    " 'SUZUKI',\n",
    " 'SKODA',\n",
    " 'TOYOTA',\n",
    " 'DACIA',\n",
    " 'MERCEDES-BENZ']), 'brand_cat3', df['brand_cat'])\n",
    "    return df\n",
    "                               \n",
    "    "
   ]
  },
  {
   "cell_type": "code",
   "execution_count": 48,
   "id": "e5e90b06",
   "metadata": {},
   "outputs": [],
   "source": [
    "train_data = add_brand_category(train_data)"
   ]
  },
  {
   "cell_type": "code",
   "execution_count": 49,
   "id": "46db1509",
   "metadata": {},
   "outputs": [],
   "source": [
    "test_data = add_brand_category(test_data)"
   ]
  },
  {
   "cell_type": "code",
   "execution_count": 50,
   "id": "36daed4b",
   "metadata": {},
   "outputs": [
    {
     "data": {
      "text/html": [
       "<div>\n",
       "<style scoped>\n",
       "    .dataframe tbody tr th:only-of-type {\n",
       "        vertical-align: middle;\n",
       "    }\n",
       "\n",
       "    .dataframe tbody tr th {\n",
       "        vertical-align: top;\n",
       "    }\n",
       "\n",
       "    .dataframe thead th {\n",
       "        text-align: right;\n",
       "    }\n",
       "</style>\n",
       "<table border=\"1\" class=\"dataframe\">\n",
       "  <thead>\n",
       "    <tr style=\"text-align: right;\">\n",
       "      <th></th>\n",
       "      <th>ID</th>\n",
       "      <th>month</th>\n",
       "      <th>max_delay</th>\n",
       "      <th>status</th>\n",
       "      <th>delayed</th>\n",
       "      <th>month_number</th>\n",
       "      <th>delayed_roll_sum</th>\n",
       "      <th>max_delay_roll_mean</th>\n",
       "      <th>max_delay_roll_max</th>\n",
       "      <th>status_roll_max</th>\n",
       "      <th>...</th>\n",
       "      <th>car_age</th>\n",
       "      <th>brand</th>\n",
       "      <th>engine_capacity_cat</th>\n",
       "      <th>birth_date</th>\n",
       "      <th>residence_type</th>\n",
       "      <th>region</th>\n",
       "      <th>car_used</th>\n",
       "      <th>customer_age</th>\n",
       "      <th>CV</th>\n",
       "      <th>brand_cat</th>\n",
       "    </tr>\n",
       "  </thead>\n",
       "  <tbody>\n",
       "    <tr>\n",
       "      <th>0</th>\n",
       "      <td>anon_S0</td>\n",
       "      <td>2002-11-30</td>\n",
       "      <td>0</td>\n",
       "      <td>1</td>\n",
       "      <td>0</td>\n",
       "      <td>1.0</td>\n",
       "      <td>0.0</td>\n",
       "      <td>0.0</td>\n",
       "      <td>0.0</td>\n",
       "      <td>1.0</td>\n",
       "      <td>...</td>\n",
       "      <td>0</td>\n",
       "      <td>SEAT</td>\n",
       "      <td>Between_1.1-1.3</td>\n",
       "      <td>11/15/1952 00:00:00</td>\n",
       "      <td>county seat</td>\n",
       "      <td>Central Transdanubia</td>\n",
       "      <td>0</td>\n",
       "      <td>50.040726</td>\n",
       "      <td>2</td>\n",
       "      <td>brand_cat2</td>\n",
       "    </tr>\n",
       "    <tr>\n",
       "      <th>1</th>\n",
       "      <td>anon_S0</td>\n",
       "      <td>2002-12-31</td>\n",
       "      <td>0</td>\n",
       "      <td>1</td>\n",
       "      <td>0</td>\n",
       "      <td>2.0</td>\n",
       "      <td>0.0</td>\n",
       "      <td>0.0</td>\n",
       "      <td>0.0</td>\n",
       "      <td>1.0</td>\n",
       "      <td>...</td>\n",
       "      <td>0</td>\n",
       "      <td>SEAT</td>\n",
       "      <td>Between_1.1-1.3</td>\n",
       "      <td>11/15/1952 00:00:00</td>\n",
       "      <td>county seat</td>\n",
       "      <td>Central Transdanubia</td>\n",
       "      <td>0</td>\n",
       "      <td>50.125601</td>\n",
       "      <td>2</td>\n",
       "      <td>brand_cat2</td>\n",
       "    </tr>\n",
       "    <tr>\n",
       "      <th>2</th>\n",
       "      <td>anon_S0</td>\n",
       "      <td>2003-01-31</td>\n",
       "      <td>0</td>\n",
       "      <td>1</td>\n",
       "      <td>0</td>\n",
       "      <td>3.0</td>\n",
       "      <td>0.0</td>\n",
       "      <td>0.0</td>\n",
       "      <td>0.0</td>\n",
       "      <td>1.0</td>\n",
       "      <td>...</td>\n",
       "      <td>0</td>\n",
       "      <td>SEAT</td>\n",
       "      <td>Between_1.1-1.3</td>\n",
       "      <td>11/15/1952 00:00:00</td>\n",
       "      <td>county seat</td>\n",
       "      <td>Central Transdanubia</td>\n",
       "      <td>0</td>\n",
       "      <td>50.210477</td>\n",
       "      <td>2</td>\n",
       "      <td>brand_cat2</td>\n",
       "    </tr>\n",
       "  </tbody>\n",
       "</table>\n",
       "<p>3 rows × 26 columns</p>\n",
       "</div>"
      ],
      "text/plain": [
       "        ID      month  max_delay  status  delayed  month_number  \\\n",
       "0  anon_S0 2002-11-30          0       1        0           1.0   \n",
       "1  anon_S0 2002-12-31          0       1        0           2.0   \n",
       "2  anon_S0 2003-01-31          0       1        0           3.0   \n",
       "\n",
       "   delayed_roll_sum  max_delay_roll_mean  max_delay_roll_max  status_roll_max  \\\n",
       "0               0.0                  0.0                 0.0              1.0   \n",
       "1               0.0                  0.0                 0.0              1.0   \n",
       "2               0.0                  0.0                 0.0              1.0   \n",
       "\n",
       "   ...  car_age  brand engine_capacity_cat           birth_date  \\\n",
       "0  ...        0   SEAT     Between_1.1-1.3  11/15/1952 00:00:00   \n",
       "1  ...        0   SEAT     Between_1.1-1.3  11/15/1952 00:00:00   \n",
       "2  ...        0   SEAT     Between_1.1-1.3  11/15/1952 00:00:00   \n",
       "\n",
       "   residence_type                region  car_used customer_age CV   brand_cat  \n",
       "0     county seat  Central Transdanubia         0    50.040726  2  brand_cat2  \n",
       "1     county seat  Central Transdanubia         0    50.125601  2  brand_cat2  \n",
       "2     county seat  Central Transdanubia         0    50.210477  2  brand_cat2  \n",
       "\n",
       "[3 rows x 26 columns]"
      ]
     },
     "execution_count": 50,
     "metadata": {},
     "output_type": "execute_result"
    }
   ],
   "source": [
    "train_data.head(3)"
   ]
  },
  {
   "cell_type": "markdown",
   "id": "a931c20e",
   "metadata": {},
   "source": [
    "# Add dummy variables"
   ]
  },
  {
   "cell_type": "code",
   "execution_count": 51,
   "id": "65224f49",
   "metadata": {},
   "outputs": [
    {
     "data": {
      "text/plain": [
       "Index(['ID', 'month', 'max_delay', 'status', 'delayed', 'month_number',\n",
       "       'delayed_roll_sum', 'max_delay_roll_mean', 'max_delay_roll_max',\n",
       "       'status_roll_max', 'status_roll_max_future', 'default', 'debt_amount',\n",
       "       'own_resource', 'duration', 'payment_type', 'car_age', 'brand',\n",
       "       'engine_capacity_cat', 'birth_date', 'residence_type', 'region',\n",
       "       'car_used', 'customer_age', 'CV', 'brand_cat'],\n",
       "      dtype='object')"
      ]
     },
     "execution_count": 51,
     "metadata": {},
     "output_type": "execute_result"
    }
   ],
   "source": [
    "train_data.columns"
   ]
  },
  {
   "cell_type": "code",
   "execution_count": 52,
   "id": "f6ebe69a",
   "metadata": {},
   "outputs": [],
   "source": [
    "categorical_columns = ['debt_amount','payment_type', 'engine_capacity_cat',\n",
    "                      'residence_type', 'region','brand_cat']"
   ]
  },
  {
   "cell_type": "code",
   "execution_count": 53,
   "id": "e30c2e2e",
   "metadata": {},
   "outputs": [],
   "source": [
    "for column in categorical_columns:\n",
    "    dummies = pd.get_dummies(train_data[column])\n",
    "    train_data = pd.concat([train_data, dummies], axis=1)"
   ]
  },
  {
   "cell_type": "code",
   "execution_count": 54,
   "id": "39526c0f",
   "metadata": {},
   "outputs": [],
   "source": [
    "for column in categorical_columns:\n",
    "    dummies = pd.get_dummies(test_data[column])\n",
    "    test_data = pd.concat([test_data, dummies], axis=1)"
   ]
  },
  {
   "cell_type": "markdown",
   "id": "f19852b5",
   "metadata": {},
   "source": [
    "# Feature selection"
   ]
  },
  {
   "cell_type": "code",
   "execution_count": 55,
   "id": "25576ecd",
   "metadata": {},
   "outputs": [],
   "source": [
    "feature_columns = ['month_number', 'max_delay', 'status', 'delayed', 'delayed_roll_sum', 'max_delay_roll_mean',\n",
    "                   'max_delay_roll_max', 'status_roll_max', 'own_resource', 'duration', 'car_age', 'customer_age', 'car_used',\n",
    "                  'bank_transfer', 'direct_debit', 'postal_check', 'Above_1.8', 'Below_1.1', 'Between_1.1-1.3',\n",
    "                   'Between_1.3-1.5', 'Between_1.5-1.8', 'capital', 'city', 'county seat', 'large village', 'municipality', \n",
    "                   'Central Hungary', 'Central Transdanubia', 'Northern Alfold', 'Northern Hungary', 'Southern Alfold', \n",
    "                   'Southern Transdanubia', 'Western Transdanubia', 'brand_cat1', 'brand_cat2', 'brand_cat3', 'Above_3M', \n",
    "                   'Below_0.75M', 'Between_0.75M-1.5M', 'Between_1.5M-2.25M', 'Between_2.25M-3M'\n",
    "                  ]"
   ]
  },
  {
   "cell_type": "code",
   "execution_count": 56,
   "id": "f3663afa",
   "metadata": {},
   "outputs": [
    {
     "data": {
      "text/plain": [
       "41"
      ]
     },
     "execution_count": 56,
     "metadata": {},
     "output_type": "execute_result"
    }
   ],
   "source": [
    "len(feature_columns)"
   ]
  },
  {
   "cell_type": "code",
   "execution_count": 57,
   "id": "58873df6",
   "metadata": {},
   "outputs": [],
   "source": [
    "from sklearn.feature_selection import SelectKBest, chi2, f_classif"
   ]
  },
  {
   "cell_type": "code",
   "execution_count": 58,
   "id": "bb8c6b1a",
   "metadata": {},
   "outputs": [
    {
     "data": {
      "text/plain": [
       "array(['month_number', 'max_delay', 'status', 'delayed',\n",
       "       'delayed_roll_sum', 'max_delay_roll_mean', 'max_delay_roll_max',\n",
       "       'status_roll_max', 'own_resource', 'duration', 'car_age',\n",
       "       'customer_age', 'Above_1.8', 'brand_cat1', 'brand_cat2'],\n",
       "      dtype='<U21')"
      ]
     },
     "execution_count": 58,
     "metadata": {},
     "output_type": "execute_result"
    }
   ],
   "source": [
    "feature_slector_chi2 = SelectKBest(chi2, k=15)\n",
    "feature_slector_chi2.fit_transform(train_data[feature_columns], train_data['default'])\n",
    "selection_chi2 = np.array(feature_columns)[feature_slector_chi2.get_support()]\n",
    "selection_chi2"
   ]
  },
  {
   "cell_type": "code",
   "execution_count": 59,
   "id": "5cffe25f",
   "metadata": {},
   "outputs": [
    {
     "data": {
      "text/plain": [
       "array(['max_delay', 'status', 'delayed', 'delayed_roll_sum',\n",
       "       'max_delay_roll_mean', 'max_delay_roll_max', 'status_roll_max',\n",
       "       'own_resource', 'car_age', 'customer_age', 'car_used', 'Above_1.8',\n",
       "       'brand_cat1', 'brand_cat2', 'brand_cat3'], dtype='<U21')"
      ]
     },
     "execution_count": 59,
     "metadata": {},
     "output_type": "execute_result"
    }
   ],
   "source": [
    "feature_slector_f_classif = SelectKBest(f_classif, k=15)\n",
    "feature_slector_f_classif.fit_transform(train_data[feature_columns], train_data['default'])\n",
    "selection_f_classif = np.array(feature_columns)[feature_slector_f_classif.get_support()]\n",
    "selection_f_classif"
   ]
  },
  {
   "cell_type": "code",
   "execution_count": 60,
   "id": "f128f68f",
   "metadata": {
    "scrolled": true
   },
   "outputs": [
    {
     "data": {
      "text/plain": [
       "['max_delay_roll_mean',\n",
       " 'duration',\n",
       " 'status',\n",
       " 'brand_cat2',\n",
       " 'status_roll_max',\n",
       " 'delayed_roll_sum',\n",
       " 'customer_age',\n",
       " 'car_age',\n",
       " 'max_delay',\n",
       " 'delayed',\n",
       " 'max_delay_roll_max',\n",
       " 'own_resource',\n",
       " 'car_used',\n",
       " 'month_number',\n",
       " 'brand_cat1',\n",
       " 'Above_1.8',\n",
       " 'brand_cat3']"
      ]
     },
     "execution_count": 60,
     "metadata": {},
     "output_type": "execute_result"
    }
   ],
   "source": [
    "selected_variables = list(set(selection_chi2).union(set(selection_f_classif)))\n",
    "selected_variables"
   ]
  },
  {
   "cell_type": "code",
   "execution_count": 61,
   "id": "3d92894e",
   "metadata": {},
   "outputs": [
    {
     "data": {
      "text/plain": [
       "17"
      ]
     },
     "execution_count": 61,
     "metadata": {},
     "output_type": "execute_result"
    }
   ],
   "source": [
    "len(selected_variables)"
   ]
  },
  {
   "cell_type": "markdown",
   "id": "641e4181",
   "metadata": {},
   "source": [
    "# Hyperparameter serach with cross validation"
   ]
  },
  {
   "cell_type": "code",
   "execution_count": 62,
   "id": "f04b3ed1",
   "metadata": {},
   "outputs": [
    {
     "data": {
      "text/plain": [
       "2    67471\n",
       "3    65985\n",
       "1    63494\n",
       "4    63195\n",
       "5    61963\n",
       "Name: CV, dtype: int64"
      ]
     },
     "execution_count": 62,
     "metadata": {},
     "output_type": "execute_result"
    }
   ],
   "source": [
    "train_data['CV'].value_counts()"
   ]
  },
  {
   "cell_type": "code",
   "execution_count": 63,
   "id": "3a834e0d",
   "metadata": {},
   "outputs": [],
   "source": [
    "from sklearn.linear_model import LogisticRegression\n",
    "from sklearn.feature_selection import RFE\n",
    "from sklearn.model_selection import cross_val_score\n",
    "from sklearn.metrics import roc_auc_score"
   ]
  },
  {
   "cell_type": "code",
   "execution_count": 64,
   "id": "e973703f",
   "metadata": {},
   "outputs": [],
   "source": [
    "X_train = train_data[selected_variables]\n",
    "y_train = train_data['default']"
   ]
  },
  {
   "cell_type": "code",
   "execution_count": null,
   "id": "d7384eef",
   "metadata": {
    "scrolled": true
   },
   "outputs": [
    {
     "name": "stdout",
     "output_type": "stream",
     "text": [
      "Number of variables used: 5, ROC: 0.8561521118952105\n",
      "Number of variables used: 10, ROC: 0.8704405197498402\n",
      "Number of variables used: 12, ROC: 0.8776862159714065\n",
      "Number of variables used: 14, ROC: 0.8742871650918758\n"
     ]
    }
   ],
   "source": [
    "# Cross validation - we use the predefined user-level partition that is stored in the train_data['CV'] column\n",
    "\n",
    "result_df = pd.DataFrame(columns=['NrVar', 'r1', 'r2', 'r3', 'r4', 'r5'])\n",
    "logreg = LogisticRegression()\n",
    "for i in [5, 10, 12, 14, 16, 17]:\n",
    "    selector = RFE(logreg, i, step=1)\n",
    "    selector = selector.fit(X_train, y_train)\n",
    "    scores = cross_val_score(logreg,X_train[X_train.columns[selector.support_]] , \n",
    "                             y_train, groups=train_data['CV'], scoring='roc_auc')\n",
    "    result_df = result_df.append(pd.DataFrame([[i, *scores]], \n",
    "                                              columns=['NrVar', 'r1', 'r2', 'r3', 'r4', 'r5']))\n",
    "    print(\"Number of variables used: \" +str(i)+\", ROC: \" + str(scores.mean()))\n",
    "result_df['ROC_avg'] = result_df[[ 'r1', 'r2', 'r3', 'r4', 'r5']].mean(axis=1)\n",
    "result_df"
   ]
  },
  {
   "cell_type": "markdown",
   "id": "71655de4",
   "metadata": {},
   "source": [
    "# Build model on whole training data with the best parameters"
   ]
  },
  {
   "cell_type": "code",
   "execution_count": null,
   "id": "e1371789",
   "metadata": {},
   "outputs": [],
   "source": [
    "logreg = LogisticRegression()\n",
    "selector = RFE(logreg, 14, step=1)\n",
    "selector = selector.fit(X_train, y_train)\n",
    "selected_features = X_train.columns[selector.support_]\n",
    "selected_features\n",
    "logreg.fit(X_train[selected_features], y_train)"
   ]
  },
  {
   "cell_type": "code",
   "execution_count": null,
   "id": "ffde15b8",
   "metadata": {},
   "outputs": [],
   "source": [
    "import pickle\n",
    "\n",
    "pickle.dump(logreg, open('LogRegModel.pkl', 'wb'))"
   ]
  },
  {
   "cell_type": "code",
   "execution_count": null,
   "id": "34a3476a",
   "metadata": {},
   "outputs": [],
   "source": [
    "selected_features"
   ]
  },
  {
   "cell_type": "markdown",
   "id": "1e212b80",
   "metadata": {},
   "source": [
    "# Evaluate model"
   ]
  },
  {
   "cell_type": "code",
   "execution_count": null,
   "id": "04afe842",
   "metadata": {},
   "outputs": [],
   "source": [
    "train_pred_df = X_train[selected_features]\n",
    "train_pred_df['predicted'] = logreg.predict_proba(train_pred_df)[:, 1]\n",
    "train_pred_df['target']= y_train\n",
    "roc_auc_score(train_pred_df['target'], train_pred_df['predicted'])"
   ]
  },
  {
   "cell_type": "code",
   "execution_count": null,
   "id": "fbc0294e",
   "metadata": {},
   "outputs": [],
   "source": [
    "X_test = test_data[selected_features]\n",
    "y_test = test_data['default']\n",
    "\n",
    "test_pred_df = X_test.copy()\n",
    "test_pred_df['predicted'] = logreg.predict_proba(test_pred_df)[:, 1]\n",
    "test_pred_df['target']= y_test\n",
    "roc_auc_score(test_pred_df['target'], test_pred_df['predicted'])"
   ]
  },
  {
   "cell_type": "markdown",
   "id": "a5039684",
   "metadata": {},
   "source": [
    "## Kolmogorov-Smirnov"
   ]
  },
  {
   "cell_type": "code",
   "execution_count": null,
   "id": "b777c539",
   "metadata": {},
   "outputs": [],
   "source": [
    "def calculate_KS(df):\n",
    "    \n",
    "    good_df = pd.DataFrame(df[df['target']==0].groupby(['predicted']).size(), columns=['good_count']).reset_index()\n",
    "    bad_df = pd.DataFrame(df[df['target']==1].groupby(['predicted']).size(), columns=['bad_count']).reset_index()\n",
    "    all_scores_df = pd.merge(good_df, bad_df, on =['predicted'], how='outer').fillna(0).sort_values('predicted')\n",
    "    all_scores_df['good_cumsum'] = all_scores_df['good_count'].cumsum()\n",
    "    all_scores_df['bad_cumsum'] = all_scores_df['bad_count'].cumsum()\n",
    "    all_scores_df['good_ratio'] = all_scores_df['good_cumsum']/(all_scores_df['good_count'].sum())\n",
    "    all_scores_df['bad_ratio'] = all_scores_df['bad_cumsum']/(all_scores_df['bad_count'].sum())\n",
    "    all_scores_df['difference'] = all_scores_df['good_ratio'] - all_scores_df['bad_ratio']\n",
    "    \n",
    "    KS_index = all_scores_df['difference'].max()\n",
    "    best_score = all_scores_df.loc[all_scores_df['difference'].argmax()]['predicted']\n",
    "    result_df = all_scores_df[['predicted', 'good_cumsum', 'bad_cumsum', 'good_ratio', 'bad_ratio', 'difference']]\n",
    "    \n",
    "    return KS_index, best_score, result_df"
   ]
  },
  {
   "cell_type": "code",
   "execution_count": null,
   "id": "a9fb3d28",
   "metadata": {},
   "outputs": [],
   "source": [
    "(ks_train, best_score_train, train_KS_df) = calculate_KS(train_pred_df)"
   ]
  },
  {
   "cell_type": "code",
   "execution_count": null,
   "id": "e54e9ea3",
   "metadata": {},
   "outputs": [],
   "source": [
    "ks_train"
   ]
  },
  {
   "cell_type": "code",
   "execution_count": null,
   "id": "398243f6",
   "metadata": {},
   "outputs": [],
   "source": [
    "best_score_train"
   ]
  },
  {
   "cell_type": "code",
   "execution_count": null,
   "id": "40ab049d",
   "metadata": {},
   "outputs": [],
   "source": []
  },
  {
   "cell_type": "code",
   "execution_count": null,
   "id": "f13511a9",
   "metadata": {},
   "outputs": [],
   "source": [
    "from plotnine import *"
   ]
  },
  {
   "cell_type": "code",
   "execution_count": null,
   "id": "fe98e00d",
   "metadata": {},
   "outputs": [],
   "source": [
    "ggplot(data = train_KS_df) + aes(x=\"predicted\", y=\"good_ratio\") + geom_line(color='green') +\\\n",
    "geom_line(mapping=aes(x=\"predicted\", y=\"bad_ratio\") ,color='red') +\\\n",
    "geom_vline(xintercept=best_score_train, color='blue', linetype='dotted')"
   ]
  },
  {
   "cell_type": "code",
   "execution_count": null,
   "id": "9aae1f5f",
   "metadata": {
    "scrolled": true
   },
   "outputs": [],
   "source": [
    "train_KS_df[train_KS_df[\"predicted\"]>=best_score_train].head(1)"
   ]
  },
  {
   "cell_type": "code",
   "execution_count": null,
   "id": "2a474161",
   "metadata": {},
   "outputs": [],
   "source": []
  },
  {
   "cell_type": "code",
   "execution_count": null,
   "id": "f5454019",
   "metadata": {},
   "outputs": [],
   "source": [
    "train_pred_df.head()"
   ]
  },
  {
   "cell_type": "markdown",
   "id": "c83e471c",
   "metadata": {},
   "source": [
    "### Set cut-off and check the confusion matrix"
   ]
  },
  {
   "cell_type": "code",
   "execution_count": null,
   "id": "37962f65",
   "metadata": {},
   "outputs": [],
   "source": [
    "from sklearn.metrics import confusion_matrix, accuracy_score"
   ]
  },
  {
   "cell_type": "code",
   "execution_count": null,
   "id": "41351884",
   "metadata": {},
   "outputs": [],
   "source": [
    "train_pred_df['predicted_category'] = np.where(train_pred_df['predicted']> best_score_train, 1, 0)"
   ]
  },
  {
   "cell_type": "code",
   "execution_count": null,
   "id": "03dbbda9",
   "metadata": {},
   "outputs": [],
   "source": [
    "confusion_matrix(train_pred_df['target'], train_pred_df['predicted_category'])"
   ]
  },
  {
   "cell_type": "code",
   "execution_count": null,
   "id": "bfb3733e",
   "metadata": {},
   "outputs": [],
   "source": [
    "# within row normalization\n",
    "confusion_matrix(train_pred_df['target'], train_pred_df['predicted_category'], normalize ='true')"
   ]
  },
  {
   "cell_type": "code",
   "execution_count": null,
   "id": "4837fb38",
   "metadata": {
    "scrolled": true
   },
   "outputs": [],
   "source": [
    "confusion_matrix(train_pred_df['target'], train_pred_df['predicted_category'], normalize ='all')"
   ]
  },
  {
   "cell_type": "code",
   "execution_count": null,
   "id": "b239480d",
   "metadata": {},
   "outputs": [],
   "source": [
    "accuracy_score(train_pred_df['target'], train_pred_df['predicted_category'])"
   ]
  },
  {
   "cell_type": "code",
   "execution_count": null,
   "id": "532422a7",
   "metadata": {},
   "outputs": [],
   "source": []
  },
  {
   "cell_type": "markdown",
   "id": "cef5292e",
   "metadata": {},
   "source": [
    "#### Validate KS on test"
   ]
  },
  {
   "cell_type": "code",
   "execution_count": null,
   "id": "8a459af6",
   "metadata": {},
   "outputs": [],
   "source": [
    "(ks_test, best_score_test, test_KS_df) = calculate_KS(test_pred_df)"
   ]
  },
  {
   "cell_type": "code",
   "execution_count": null,
   "id": "71b2439e",
   "metadata": {},
   "outputs": [],
   "source": [
    "ks_test"
   ]
  },
  {
   "cell_type": "code",
   "execution_count": null,
   "id": "581dd2da",
   "metadata": {},
   "outputs": [],
   "source": [
    "best_score_test"
   ]
  },
  {
   "cell_type": "code",
   "execution_count": null,
   "id": "be1214be",
   "metadata": {},
   "outputs": [],
   "source": [
    "test_KS_df[test_KS_df[\"predicted\"]>=best_score_train].head(1)"
   ]
  },
  {
   "cell_type": "code",
   "execution_count": null,
   "id": "52d5373f",
   "metadata": {},
   "outputs": [],
   "source": [
    "ggplot(data = test_KS_df) + aes(x=\"predicted\", y=\"good_ratio\") + geom_line(color='green') +\\\n",
    "geom_line(mapping=aes(x=\"predicted\", y=\"bad_ratio\") ,color='red') +\\\n",
    "geom_vline(xintercept=best_score_train, color='orange', linetype='dotted') +\\\n",
    "geom_vline(xintercept=best_score_test, color='purple', linetype='dotted')"
   ]
  },
  {
   "cell_type": "code",
   "execution_count": null,
   "id": "a8338f69",
   "metadata": {},
   "outputs": [],
   "source": []
  },
  {
   "cell_type": "code",
   "execution_count": null,
   "id": "dfb7aab9",
   "metadata": {},
   "outputs": [],
   "source": [
    "test_pred_df['predicted_category'] = np.where(test_pred_df['predicted']> best_score_train, 1, 0)"
   ]
  },
  {
   "cell_type": "code",
   "execution_count": null,
   "id": "d30701d5",
   "metadata": {},
   "outputs": [],
   "source": [
    "confusion_matrix(test_pred_df['target'], test_pred_df['predicted_category'])"
   ]
  },
  {
   "cell_type": "code",
   "execution_count": null,
   "id": "16c3932f",
   "metadata": {},
   "outputs": [],
   "source": [
    "confusion_matrix(test_pred_df['target'], test_pred_df['predicted_category'], normalize ='true')"
   ]
  },
  {
   "cell_type": "code",
   "execution_count": null,
   "id": "f6a36a92",
   "metadata": {},
   "outputs": [],
   "source": [
    "confusion_matrix(test_pred_df['target'], test_pred_df['predicted_category'], normalize ='all')"
   ]
  },
  {
   "cell_type": "code",
   "execution_count": null,
   "id": "9baed56f",
   "metadata": {},
   "outputs": [],
   "source": [
    "accuracy_score(test_pred_df['target'], test_pred_df['predicted_category'])"
   ]
  },
  {
   "cell_type": "code",
   "execution_count": null,
   "id": "3a47fbb9",
   "metadata": {},
   "outputs": [],
   "source": []
  }
 ],
 "metadata": {
  "kernelspec": {
   "display_name": "Python 3 (ipykernel)",
   "language": "python",
   "name": "python3"
  },
  "language_info": {
   "codemirror_mode": {
    "name": "ipython",
    "version": 3
   },
   "file_extension": ".py",
   "mimetype": "text/x-python",
   "name": "python",
   "nbconvert_exporter": "python",
   "pygments_lexer": "ipython3",
   "version": "3.9.7"
  }
 },
 "nbformat": 4,
 "nbformat_minor": 5
}
